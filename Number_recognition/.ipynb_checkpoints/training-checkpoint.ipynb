{
 "cells": [
  {
   "cell_type": "code",
   "execution_count": 1,
   "id": "00310686",
   "metadata": {},
   "outputs": [],
   "source": [
    "import matplotlib.pyplot as plt\n",
    "%matplotlib inline\n",
    "import numpy as np\n",
    "import cv2\n",
    "from IPython.display import Image\n",
    "from tensorflow.keras import Sequential\n",
    "from tensorflow.keras.utils import normalize\n",
    "from tensorflow.keras.models import Model\n",
    "from tensorflow.keras.layers import Conv2D, MaxPool2D, Dense, Flatten, Dropout\n",
    "from tensorflow.keras.utils import to_categorical, plot_model\n",
    "from tensorflow.keras.datasets.mnist import load_data"
   ]
  },
  {
   "cell_type": "markdown",
   "id": "e189bab6",
   "metadata": {},
   "source": [
    "### Načtení nul a sedmiček z datasetu MNIST"
   ]
  },
  {
   "cell_type": "code",
   "execution_count": 2,
   "id": "f892d2bb",
   "metadata": {},
   "outputs": [],
   "source": [
    "#(X_train, y_train), (X_test, y_test) = load_data()\n",
    "\n",
    "#train_filter = np.where((y_train == 0 ) | (y_train == 7))\n",
    "#test_filter = np.where((y_test == 0) | (y_test == 7))\n",
    "\n",
    "#X_train, y_train = X_train[train_filter], y_train[train_filter]\n",
    "#X_test, y_test = X_test[test_filter], y_test[test_filter]"
   ]
  },
  {
   "cell_type": "code",
   "execution_count": 3,
   "id": "1e5c9c09",
   "metadata": {},
   "outputs": [],
   "source": [
    "(X_train, y_train), (X_test, y_test) = load_data()\n",
    "X_train = X_train.reshape((X_train.shape[0], X_train.shape[1], X_train.shape[2], 1))\n",
    "X_test = X_test.reshape((X_test.shape[0], X_test.shape[1], X_test.shape[2], 1))"
   ]
  },
  {
   "cell_type": "code",
   "execution_count": 4,
   "id": "ccfed7ea",
   "metadata": {},
   "outputs": [],
   "source": [
    "X_train = X_train.astype('float32') / 255.0\n",
    "X_test = X_test.astype('float32') / 255.0"
   ]
  },
  {
   "cell_type": "code",
   "execution_count": 5,
   "id": "cab6987f",
   "metadata": {},
   "outputs": [
    {
     "data": {
      "image/png": "[encoded data removed]",
      "text/plain": [
       "<Figure size 500x300 with 15 Axes>"
      ]
     },
     "metadata": {},
     "output_type": "display_data"
    }
   ],
   "source": [
    "fig = plt.figure(figsize=(5, 3))\n",
    "for i in range(15):\n",
    "    ax = fig.add_subplot(2, 10, i + 1, xticks = [], yticks = [])\n",
    "    ax.imshow(np.squeeze(X_train[i]), cmap='gray')\n",
    "    ax.set_title(y_train[i])"
   ]
  },
  {
   "cell_type": "code",
   "execution_count": 6,
   "id": "268f3064",
   "metadata": {},
   "outputs": [],
   "source": [
    "model = Sequential()\n",
    "model.add(Conv2D(32, (3, 3), activation='relu', input_shape = X_train.shape[1:]))\n",
    "model.add(MaxPool2D((2, 2)))\n",
    "model.add(Conv2D(48, (3, 3), activation='relu'))\n",
    "model.add(MaxPool2D((2, 2)))\n",
    "model.add(Dropout(0.5))\n",
    "model.add(Flatten())\n",
    "model.add(Dense(500, activation='relu'))\n",
    "model.add(Dense(250, activation='relu'))\n",
    "model.add(Dense(125, activation='relu'))\n",
    "model.add(Dense(10, activation='softmax'))"
   ]
  },
  {
   "cell_type": "code",
   "execution_count": 7,
   "id": "03b46594",
   "metadata": {},
   "outputs": [
    {
     "name": "stdout",
     "output_type": "stream",
     "text": [
      "Model: \"sequential\"\n",
      "_________________________________________________________________\n",
      " Layer (type)                Output Shape              Param #   \n",
      "=================================================================\n",
      " conv2d (Conv2D)             (None, 26, 26, 32)        320       \n",
      "                                                                 \n",
      " max_pooling2d (MaxPooling2D  (None, 13, 13, 32)       0         \n",
      " )                                                               \n",
      "                                                                 \n",
      " conv2d_1 (Conv2D)           (None, 11, 11, 48)        13872     \n",
      "                                                                 \n",
      " max_pooling2d_1 (MaxPooling  (None, 5, 5, 48)         0         \n",
      " 2D)                                                             \n",
      "                                                                 \n",
      " conv2d_2 (Conv2D)           (None, 3, 3, 64)          27712     \n",
      "                                                                 \n",
      " max_pooling2d_2 (MaxPooling  (None, 1, 1, 64)         0         \n",
      " 2D)                                                             \n",
      "                                                                 \n",
      " dropout (Dropout)           (None, 1, 1, 64)          0         \n",
      "                                                                 \n",
      " flatten (Flatten)           (None, 64)                0         \n",
      "                                                                 \n",
      " dense (Dense)               (None, 500)               32500     \n",
      "                                                                 \n",
      " dense_1 (Dense)             (None, 10)                5010      \n",
      "                                                                 \n",
      "=================================================================\n",
      "Total params: 79,414\n",
      "Trainable params: 79,414\n",
      "Non-trainable params: 0\n",
      "_________________________________________________________________\n"
     ]
    }
   ],
   "source": [
    "model.summary()"
   ]
  },
  {
   "cell_type": "code",
   "execution_count": 8,
   "id": "64eeb371",
   "metadata": {},
   "outputs": [
    {
     "name": "stdout",
     "output_type": "stream",
     "text": [
      "You must install pydot (`pip install pydot`) and install graphviz (see instructions at https://graphviz.gitlab.io/download/) for plot_model to work.\n"
     ]
    }
   ],
   "source": [
    "plot_model(model, 'model.jpg', show_shapes=True)"
   ]
  },
  {
   "cell_type": "code",
   "execution_count": 9,
   "id": "6e7a4230",
   "metadata": {},
   "outputs": [
    {
     "name": "stdout",
     "output_type": "stream",
     "text": [
      "Epoch 1/30\n",
      "422/422 - 29s - loss: 0.5966 - accuracy: 0.8107 - val_loss: 0.1186 - val_accuracy: 0.9660 - 29s/epoch - 69ms/step\n",
      "Epoch 2/30\n",
      "422/422 - 30s - loss: 0.2429 - accuracy: 0.9262 - val_loss: 0.0826 - val_accuracy: 0.9737 - 30s/epoch - 70ms/step\n",
      "Epoch 3/30\n",
      "422/422 - 30s - loss: 0.1768 - accuracy: 0.9462 - val_loss: 0.0641 - val_accuracy: 0.9805 - 30s/epoch - 70ms/step\n",
      "Epoch 4/30\n",
      "422/422 - 30s - loss: 0.1517 - accuracy: 0.9537 - val_loss: 0.0611 - val_accuracy: 0.9805 - 30s/epoch - 71ms/step\n",
      "Epoch 5/30\n",
      "422/422 - 33s - loss: 0.1298 - accuracy: 0.9608 - val_loss: 0.0561 - val_accuracy: 0.9838 - 33s/epoch - 79ms/step\n",
      "Epoch 6/30\n",
      "422/422 - 38s - loss: 0.1182 - accuracy: 0.9655 - val_loss: 0.0515 - val_accuracy: 0.9852 - 38s/epoch - 89ms/step\n",
      "Epoch 7/30\n",
      "422/422 - 32s - loss: 0.1072 - accuracy: 0.9677 - val_loss: 0.0464 - val_accuracy: 0.9882 - 32s/epoch - 75ms/step\n",
      "Epoch 8/30\n",
      "422/422 - 30s - loss: 0.0986 - accuracy: 0.9697 - val_loss: 0.0453 - val_accuracy: 0.9870 - 30s/epoch - 72ms/step\n",
      "Epoch 9/30\n",
      "422/422 - 32s - loss: 0.0907 - accuracy: 0.9719 - val_loss: 0.0473 - val_accuracy: 0.9858 - 32s/epoch - 75ms/step\n",
      "Epoch 10/30\n",
      "422/422 - 27s - loss: 0.0884 - accuracy: 0.9735 - val_loss: 0.0420 - val_accuracy: 0.9885 - 27s/epoch - 65ms/step\n",
      "Epoch 11/30\n",
      "422/422 - 29s - loss: 0.0819 - accuracy: 0.9746 - val_loss: 0.0465 - val_accuracy: 0.9865 - 29s/epoch - 70ms/step\n",
      "Epoch 12/30\n",
      "422/422 - 29s - loss: 0.0764 - accuracy: 0.9762 - val_loss: 0.0453 - val_accuracy: 0.9865 - 29s/epoch - 68ms/step\n",
      "Epoch 13/30\n",
      "422/422 - 27s - loss: 0.0737 - accuracy: 0.9774 - val_loss: 0.0427 - val_accuracy: 0.9888 - 27s/epoch - 65ms/step\n",
      "Epoch 14/30\n",
      "422/422 - 30s - loss: 0.0692 - accuracy: 0.9788 - val_loss: 0.0404 - val_accuracy: 0.9888 - 30s/epoch - 71ms/step\n",
      "Epoch 15/30\n",
      "422/422 - 38s - loss: 0.0682 - accuracy: 0.9779 - val_loss: 0.0440 - val_accuracy: 0.9888 - 38s/epoch - 89ms/step\n",
      "Epoch 16/30\n",
      "422/422 - 31s - loss: 0.0659 - accuracy: 0.9795 - val_loss: 0.0395 - val_accuracy: 0.9883 - 31s/epoch - 72ms/step\n",
      "Epoch 17/30\n",
      "422/422 - 28s - loss: 0.0620 - accuracy: 0.9808 - val_loss: 0.0455 - val_accuracy: 0.9867 - 28s/epoch - 66ms/step\n",
      "Epoch 18/30\n",
      "422/422 - 29s - loss: 0.0590 - accuracy: 0.9814 - val_loss: 0.0407 - val_accuracy: 0.9898 - 29s/epoch - 68ms/step\n",
      "Epoch 19/30\n",
      "422/422 - 29s - loss: 0.0569 - accuracy: 0.9819 - val_loss: 0.0433 - val_accuracy: 0.9887 - 29s/epoch - 69ms/step\n",
      "Epoch 20/30\n",
      "422/422 - 29s - loss: 0.0529 - accuracy: 0.9825 - val_loss: 0.0521 - val_accuracy: 0.9865 - 29s/epoch - 68ms/step\n",
      "Epoch 21/30\n",
      "422/422 - 27s - loss: 0.0518 - accuracy: 0.9840 - val_loss: 0.0483 - val_accuracy: 0.9865 - 27s/epoch - 63ms/step\n",
      "Epoch 22/30\n",
      "422/422 - 26s - loss: 0.0475 - accuracy: 0.9848 - val_loss: 0.0434 - val_accuracy: 0.9883 - 26s/epoch - 62ms/step\n",
      "Epoch 23/30\n",
      "422/422 - 38s - loss: 0.0502 - accuracy: 0.9838 - val_loss: 0.0422 - val_accuracy: 0.9895 - 38s/epoch - 89ms/step\n",
      "Epoch 24/30\n",
      "422/422 - 32s - loss: 0.0464 - accuracy: 0.9855 - val_loss: 0.0415 - val_accuracy: 0.9898 - 32s/epoch - 76ms/step\n",
      "Epoch 25/30\n",
      "422/422 - 36s - loss: 0.0468 - accuracy: 0.9846 - val_loss: 0.0424 - val_accuracy: 0.9893 - 36s/epoch - 85ms/step\n",
      "Epoch 26/30\n",
      "422/422 - 34s - loss: 0.0418 - accuracy: 0.9863 - val_loss: 0.0415 - val_accuracy: 0.9905 - 34s/epoch - 80ms/step\n",
      "Epoch 27/30\n",
      "422/422 - 36s - loss: 0.0454 - accuracy: 0.9850 - val_loss: 0.0408 - val_accuracy: 0.9885 - 36s/epoch - 85ms/step\n",
      "Epoch 28/30\n",
      "422/422 - 31s - loss: 0.0435 - accuracy: 0.9860 - val_loss: 0.0428 - val_accuracy: 0.9903 - 31s/epoch - 74ms/step\n",
      "Epoch 29/30\n",
      "422/422 - 31s - loss: 0.0404 - accuracy: 0.9870 - val_loss: 0.0372 - val_accuracy: 0.9900 - 31s/epoch - 74ms/step\n",
      "Epoch 30/30\n",
      "422/422 - 38s - loss: 0.0398 - accuracy: 0.9875 - val_loss: 0.0400 - val_accuracy: 0.9902 - 38s/epoch - 90ms/step\n"
     ]
    },
    {
     "data": {
      "text/plain": [
       "<keras.callbacks.History at 0x163dc93e220>"
      ]
     },
     "execution_count": 9,
     "metadata": {},
     "output_type": "execute_result"
    }
   ],
   "source": [
    "model.compile(optimizer='adam', loss='sparse_categorical_crossentropy', metrics=['accuracy'])\n",
    "model.fit(X_train, y_train, epochs=30, batch_size=128, verbose=2, validation_split=0.1)"
   ]
  },
  {
   "cell_type": "code",
   "execution_count": 10,
   "id": "bc16195c",
   "metadata": {},
   "outputs": [],
   "source": [
    "loss, accuracy = model.evaluate(X_test, y_test, verbose=0)"
   ]
  },
  {
   "cell_type": "code",
   "execution_count": 11,
   "id": "3a96760c",
   "metadata": {},
   "outputs": [
    {
     "name": "stdout",
     "output_type": "stream",
     "text": [
      "Přesnost sítě je 0.9891999959945679\n"
     ]
    }
   ],
   "source": [
    "print(\"Přesnost sítě je {}\".format(accuracy))"
   ]
  },
  {
   "cell_type": "code",
   "execution_count": 12,
   "id": "ad0c9dd7",
   "metadata": {},
   "outputs": [
    {
     "data": {
      "text/plain": [
       "<matplotlib.image.AxesImage at 0x163dcd61100>"
      ]
     },
     "execution_count": 12,
     "metadata": {},
     "output_type": "execute_result"
    },
    {
     "data": {
      "image/png": "[encoded data removed]",
      "text/plain": [
       "<Figure size 640x480 with 1 Axes>"
      ]
     },
     "metadata": {},
     "output_type": "display_data"
    }
   ],
   "source": [
    "image = X_test[1]\n",
    "plt.imshow(image, cmap='gray')"
   ]
  },
  {
   "cell_type": "code",
   "execution_count": 13,
   "id": "f14dc4ef",
   "metadata": {},
   "outputs": [
    {
     "name": "stdout",
     "output_type": "stream",
     "text": [
      "1/1 [==============================] - 0s 271ms/step\n"
     ]
    }
   ],
   "source": [
    "image = image.reshape(1, image.shape[0], image.shape[1], image.shape[2])\n",
    "p = model.predict([image])"
   ]
  },
  {
   "cell_type": "code",
   "execution_count": 14,
   "id": "be65ec9a",
   "metadata": {},
   "outputs": [
    {
     "name": "stdout",
     "output_type": "stream",
     "text": [
      "Predikce sítě: 2\n"
     ]
    }
   ],
   "source": [
    "print(\"Predikce sítě: {}\".format(np.argmax(p)))"
   ]
  },
  {
   "cell_type": "code",
   "execution_count": 15,
   "id": "436d7831",
   "metadata": {},
   "outputs": [],
   "source": [
    "model.save('./trained_model_4.h5')"
   ]
  },
  {
   "cell_type": "code",
   "execution_count": null,
   "id": "07c2fad5",
   "metadata": {},
   "outputs": [],
   "source": []
  }
 ],
 "metadata": {
  "kernelspec": {
   "display_name": "Python 3.9 (tensorflow)",
   "language": "python",
   "name": "tensorflow"
  },
  "language_info": {
   "codemirror_mode": {
    "name": "ipython",
    "version": 3
   },
   "file_extension": ".py",
   "mimetype": "text/x-python",
   "name": "python",
   "nbconvert_exporter": "python",
   "pygments_lexer": "ipython3",
   "version": "3.9.11"
  }
 },
 "nbformat": 4,
 "nbformat_minor": 5
}
