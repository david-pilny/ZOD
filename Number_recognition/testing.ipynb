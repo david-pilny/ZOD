{
 "cells": [
  {
   "cell_type": "code",
   "execution_count": 1,
   "id": "d670c5e1",
   "metadata": {},
   "outputs": [],
   "source": [
    "import matplotlib.pyplot as plt\n",
    "%matplotlib inline\n",
    "import numpy as np\n",
    "import cv2\n",
    "from tensorflow.keras.models import load_model\n",
    "import os\n",
    "from glob import glob"
   ]
  },
  {
   "cell_type": "markdown",
   "id": "31c79564",
   "metadata": {},
   "source": [
    "### Funkce, která najde hranice čísel"
   ]
  },
  {
   "cell_type": "code",
   "execution_count": 2,
   "id": "27f0d139",
   "metadata": {},
   "outputs": [],
   "source": [
    "def find_bounds(img):\n",
    "    ret,thresh = cv2.threshold(img,127,255,0)\n",
    "    contours, _ = cv2.findContours(thresh,cv2.RETR_TREE,cv2.CHAIN_APPROX_SIMPLE)\n",
    "    cnt = contours[0]\n",
    "    x,y,w,h = cv2.boundingRect(cnt)\n",
    "    return x, y, w, h"
   ]
  },
  {
   "cell_type": "markdown",
   "id": "e5eeaab7",
   "metadata": {},
   "source": [
    "### Načtení obrázků"
   ]
  },
  {
   "cell_type": "code",
   "execution_count": 6,
   "id": "5a9019b2",
   "metadata": {},
   "outputs": [],
   "source": [
    "img_dirs = ['./7v0/0/', './7v0/7/']\n",
    "images = []\n",
    "down_points = (28, 28)\n",
    "\n",
    "for input_dir in img_dirs:\n",
    "    for directory_path in glob(input_dir):\n",
    "        for img_path in glob(os.path.join(directory_path, \"*.png\")):\n",
    "            # bitwise_not obrátí barvy tak, aby čísla byla bílá a pozadí černé\n",
    "            img = cv2.bitwise_not(cv2.imread(img_path, 0))\n",
    "            x, y, w, h = find_bounds(img)\n",
    "            # okolo čísel je ještě \"padding\" 10 px\n",
    "            img = img[y-10:y+h+10, x-10:x+w+10]\n",
    "            # zmenšení obrázku na 28x28\n",
    "            resized_down = cv2.resize(img, down_points, interpolation= cv2.INTER_NEAREST)\n",
    "            images.append(resized_down)\n",
    "            \n",
    "images = np.array(images)"
   ]
  },
  {
   "cell_type": "code",
   "execution_count": null,
   "id": "33c5cbb0",
   "metadata": {},
   "outputs": [],
   "source": [
    "images = images.reshape((images.shape[0], images.shape[1], images.shape[2], 1))\n",
    "images = images.astype('float32') / 255.0"
   ]
  },
  {
   "cell_type": "markdown",
   "id": "a887a2e0",
   "metadata": {},
   "source": [
    "Obrázky se převedou na float, přičemž hodnoty budou od 0-1 místo od 0-255"
   ]
  },
  {
   "cell_type": "code",
   "execution_count": 5,
   "id": "d368035a",
   "metadata": {},
   "outputs": [
    {
     "data": {
      "image/png": "[encoded data removed]",
      "text/plain": [
       "<Figure size 360x144 with 10 Axes>"
      ]
     },
     "metadata": {},
     "output_type": "display_data"
    }
   ],
   "source": [
    "fig = plt.figure(figsize=(5, 2))\n",
    "for i in range(len(images)):\n",
    "    ax = fig.add_subplot(2, 10, i + 1, xticks = [], yticks = [])\n",
    "    ax.imshow(np.squeeze(images[i]), cmap='gray')"
   ]
  },
  {
   "cell_type": "markdown",
   "id": "4272ad13",
   "metadata": {},
   "source": [
    "Testovací dataset"
   ]
  },
  {
   "cell_type": "markdown",
   "id": "643f86d2",
   "metadata": {},
   "source": [
    "### Načtení modelu"
   ]
  },
  {
   "cell_type": "code",
   "execution_count": 6,
   "id": "bd5b676e",
   "metadata": {},
   "outputs": [
    {
     "name": "stderr",
     "output_type": "stream",
     "text": [
      "2022-11-29 22:11:08.675538: I tensorflow/compiler/mlir/mlir_graph_optimization_pass.cc:176] None of the MLIR Optimization Passes are enabled (registered 2)\n",
      "2022-11-29 22:11:08.675681: W tensorflow/core/platform/profile_utils/cpu_utils.cc:128] Failed to get CPU frequency: 0 Hz\n"
     ]
    },
    {
     "data": {
      "image/png": "[encoded data removed]",
      "text/plain": [
       "<Figure size 360x144 with 10 Axes>"
      ]
     },
     "metadata": {},
     "output_type": "display_data"
    }
   ],
   "source": [
    "model = load_model('./Trained_models/trained_model_3.h5')\n",
    "predictions = model.predict(images)\n",
    "\n",
    "fig = plt.figure(figsize=(5, 2))\n",
    "for i in range(len(images)):\n",
    "    ax = fig.add_subplot(2, 10, i + 1, xticks = [], yticks = [])\n",
    "    ax.imshow(np.squeeze(images[i]), cmap='gray')\n",
    "    ax.set_title(np.argmax(predictions[i]))"
   ]
  },
  {
   "cell_type": "code",
   "execution_count": null,
   "id": "5b282ddd",
   "metadata": {},
   "outputs": [],
   "source": []
  },
  {
   "cell_type": "code",
   "execution_count": null,
   "id": "98b4d440",
   "metadata": {},
   "outputs": [],
   "source": []
  }
 ],
 "metadata": {
  "kernelspec": {
   "display_name": "Python 3.9 (tensorflow)",
   "language": "python",
   "name": "tensorflow"
  },
  "language_info": {
   "codemirror_mode": {
    "name": "ipython",
    "version": 3
   },
   "file_extension": ".py",
   "mimetype": "text/x-python",
   "name": "python",
   "nbconvert_exporter": "python",
   "pygments_lexer": "ipython3",
   "version": "3.9.11"
  }
 },
 "nbformat": 4,
 "nbformat_minor": 5
}
